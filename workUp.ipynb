{
 "cells": [
  {
   "cell_type": "code",
   "execution_count": 1,
   "metadata": {},
   "outputs": [],
   "source": [
    "import numpy as np \n",
    "import pandas as pd\n",
    "import sklearn\n",
    "\n",
    "import os"
   ]
  },
  {
   "cell_type": "code",
   "execution_count": 2,
   "metadata": {},
   "outputs": [],
   "source": [
    "import seaborn as sns\n",
    "import matplotlib as plt\n",
    "from plotnine import *\n",
    "import warnings\n",
    "warnings.filterwarnings('ignore')\n",
    "%matplotlib inline\n",
    "\n",
    "from scipy.stats import norm    # used in plotting"
   ]
  },
  {
   "cell_type": "code",
   "execution_count": 3,
   "metadata": {},
   "outputs": [],
   "source": [
    "trainData = pd.read_csv(\"./data/train.csv\")\n",
    "testData = pd.read_csv(\"./data/test.csv\")"
   ]
  },
  {
   "cell_type": "code",
   "execution_count": 5,
   "metadata": {},
   "outputs": [],
   "source": [
    "outliers = ((trainData.GrLivArea > 4000) & (trainData.SalePrice < 5E5))\n",
    "trainData = trainData[~(outliers)]"
   ]
  },
  {
   "cell_type": "code",
   "execution_count": null,
   "metadata": {},
   "outputs": [],
   "source": [
    "impCols = [\"OverallQual\",\"TotalBsmtSF\", \"1stFlrSF\", \"GrLivArea\", \"GarageCars\", \"GarageArea\", \"MSSubClass\",\n",
    "          \"KitchenAbvGr\",\"OverallCond\"]"
   ]
  },
  {
   "cell_type": "code",
   "execution_count": null,
   "metadata": {},
   "outputs": [],
   "source": [
    "def nullfill(in_df):\n",
    "    df = in_df.copy()\n",
    "    df.Alley = df.Alley.fillna(\"None\")\n",
    "    df.BsmtQual = df.BsmtQual.fillna(\"None\")\n",
    "    df.BsmtCond = df.BsmtCond.fillna(\"None\")\n",
    "    df.BsmtExposure = df.BsmtExposure.fillna(\"None\")\n",
    "    df.BsmtFinType1 = df.BsmtFinType1.fillna(\"None\")\n",
    "    df.BsmtFinType2 = df.BsmtFinType2.fillna(\"None\")\n",
    "    df.FireplaceQu = df.FireplaceQu.fillna(\"None\")\n",
    "    df.GarageType = df.GarageType.fillna(\"None\")\n",
    "    df.GarageFinish = df.GarageFinish.fillna(\"None\")\n",
    "    df.GarageQual = df.GarageQual.fillna(\"None\")\n",
    "    df.GarageCond = df.GarageCond.fillna(\"None\")\n",
    "    df.PoolQC = df.PoolQC.fillna(\"None\")\n",
    "    df.Fence = df.Fence.fillna(\"None\")\n",
    "    df.MiscFeature = df.MiscFeature.fillna(\"None\")\n",
    "    df.MasVnrType = df.MasVnrType.fillna(\"None\")\n",
    "    df.MasVnrArea = df.MasVnrArea.fillna(0)\n",
    "    df.Electrical = df.Electrical.fillna(\"SBrkr\")\n",
    "    \n",
    "    return(df)"
   ]
  },
  {
   "cell_type": "code",
   "execution_count": null,
   "metadata": {},
   "outputs": [],
   "source": [
    "def imputeDiffs(in_df):\n",
    "    df = in_df.copy()\n",
    "    \n",
    "    \n",
    "    "
   ]
  },
  {
   "cell_type": "code",
   "execution_count": null,
   "metadata": {},
   "outputs": [],
   "source": [
    "zoning = trainData.groupby(\"Neighborhood\").MSZoning.apply(lambda x: x.value_counts().sort_values().index[0]).to_dict()\n",
    "utilities = trainData.groupby(\"Neighborhood\").Utilities.apply(lambda x: x.value_counts().sort_values().index[0]).to_dict()\n",
    "frontage = trainData.groupby(\"Neighborhood\").LotFrontage.apply(lambda x: x.value_counts().sort_values().index[0]).to_dict()"
   ]
  },
  {
   "cell_type": "code",
   "execution_count": null,
   "metadata": {},
   "outputs": [],
   "source": [
    "# values that null is filled with \"None\"\n",
    "fillNone = [\"Alley\",\"BsmtQual\",\"BsmtCond\",\"MasVnrType\",\"BsmtExposure\",\"BsmtFinType1\",\"BsmtFinType2\",\"FireplaceQu\",\"GarageType\",\"GarageFinish\",\"GarageQual\",\n",
    "           \"GarageCond\",\"PoolQC\",\"Fence\",\"MiscFeature\",\"MasVnrType\"]\n",
    "\n",
    "# For categorical data, it is \n",
    "fillZero = [\"BsmtFinSF1\",\"BsmtFinSF2\",\"BsmtUnfSF\",\"TotalBsmtSF\",\"BsmtFullBath\",\"BsmtHalfBath\",\"FullBath\",\"HalfBath\",\"BedroomAbvGr\",\"2ndFlrSF\",\"GrLivArea\",\n",
    "           \"MasVnrArea\",\"GarageArea\",\"GarageCars\", \"GarageYrBlt\"]\n",
    "\n",
    "def imputeVals0(in_df):\n",
    "    df = in_df.copy()\n",
    "    for i in fillNone:\n",
    "        df[i] = df[i].fillna(\"None\")\n",
    "    for i in fillZero:\n",
    "        df[\"null_%s\" % (i)] = df[i].isnull()                           # mark which zeros are imputed\n",
    "        df[i] = df[i].fillna(0)\n",
    "    df.Electrical = df.Electrical.fillna(\"SBrkr\")\n",
    "    df.Functional = df.Functional.fillna(\"Typ\")                        # Documentation instructs to assume \"typical\" unless otherwise noted\n",
    "    df.CentralAir = df.CentralAir.fillna(\"Y\")\n",
    "    df[\"null_LotFrontage\"] = df.LotFrontage.isnull()\n",
    "    df.LotFrontage = df.LotFrontage.fillna(0)                             \n",
    "    df.MSZoning = df.MSZoning.fillna(df.Neighborhood.map(zoning))\n",
    "    df.Utilities = df.Utilities.fillna(df.Neighborhood.map(utilities))\n",
    "    df.KitchenQual = df.KitchenQual.fillna(\"Po\")                      #one house missing kitchen data\n",
    "    df.SaleType = df.SaleType.fillna(\"Oth\")                           # only one missing value, fill the already defined \"other\"\n",
    "    df.Exterior1st = df.Exterior1st.fillna(\"Other\")\n",
    "    df.Exterior2nd = df.Exterior2nd.fillna(\"Other\")                  # the same house is responsible for the missing exterior 1st and 2nd, other is predefined\n",
    "    df = df.drop(columns=[\"Id\"])\n",
    "    return(df)\n",
    "\n",
    "def imputeVals1(in_df):\n",
    "    df = in_df.copy()\n",
    "    for i in fillNone:\n",
    "        df[i] = df[i].fillna(\"None\")\n",
    "    for i in fillZero:\n",
    "        df[\"null_%s\" % (i)] = df[i].isnull()\n",
    "        df[i] = df[i].fillna(0)\n",
    "    df.Electrical = df.Electrical.fillna(\"SBrkr\")\n",
    "    df.Functional = df.Functional.fillna(\"Typ\")                        \n",
    "    df.CentralAir = df.CentralAir.fillna(\"Y\")\n",
    "    df.LotFrontage = df.LotFrontage.fillna(df.Neighborhood.map(frontage))            # This is the only line different in these two functions, maybe a more elegant solution is possible               \n",
    "    df.MSZoning = df.MSZoning.fillna(df.Neighborhood.map(zoning))\n",
    "    df.Utilities = df.Utilities.fillna(df.Neighborhood.map(utilities))\n",
    "    df.KitchenQual = df.KitchenQual.fillna(\"Po\")                     \n",
    "    df.SaleType = df.SaleType.fillna(\"Oth\")                           \n",
    "    df.Exterior1st = df.Exterior1st.fillna(\"Other\")\n",
    "    df.Exterior2nd = df.Exterior2nd.fillna(\"Other\")                 \n",
    "    df = df.drop(columns=[\"Id\"])\n",
    "    return(df)"
   ]
  },
  {
   "cell_type": "code",
   "execution_count": null,
   "metadata": {},
   "outputs": [],
   "source": []
  },
  {
   "cell_type": "code",
   "execution_count": null,
   "metadata": {},
   "outputs": [],
   "source": [
    "# Need these values for inverse transform before submission\n",
    "\n",
    "normedPrice = np.log(trainData.SalePrice)\n",
    "sp_mean = np.mean(normedPrice)\n",
    "sp_std = np.std(normedPrice)\n",
    "normedPrice = (normedPrice - sp_mean) / sp_std"
   ]
  },
  {
   "cell_type": "code",
   "execution_count": null,
   "metadata": {},
   "outputs": [],
   "source": []
  }
 ],
 "metadata": {
  "kernelspec": {
   "display_name": "Python 3",
   "language": "python",
   "name": "python3"
  },
  "language_info": {
   "codemirror_mode": {
    "name": "ipython",
    "version": 3
   },
   "file_extension": ".py",
   "mimetype": "text/x-python",
   "name": "python",
   "nbconvert_exporter": "python",
   "pygments_lexer": "ipython3",
   "version": "3.7.3"
  }
 },
 "nbformat": 4,
 "nbformat_minor": 2
}
