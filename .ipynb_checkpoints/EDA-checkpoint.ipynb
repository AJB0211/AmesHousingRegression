{
 "cells": [
  {
   "cell_type": "markdown",
   "metadata": {
    "_uuid": "6624b7a221991f707159481c16ba7860fa3819a6"
   },
   "source": [
    "Documentation for the data can be found [here](http://ww2.amstat.org/publications/jse/v19n3/Decock/DataDocumentation.txt). "
   ]
  },
  {
   "cell_type": "markdown",
   "metadata": {
    "_uuid": "6eed3aaee0fbc1531b2be8db846af64933d62aa8"
   },
   "source": [
    "I take a lot of inspiration from:\n",
    "* [The Kaggle Learn: Machine Learning lessons by Dan Becker](https://www.kaggle.com/learn/machine-learning)\n",
    "*  [Stacked Regressions by Serigne](https://www.kaggle.com/serigne/stacked-regressions-top-4-on-leaderboard)\n",
    "* [Comprehensive data exploration with Python by  Pedro Marcelino](https://www.kaggle.com/pmarcelino/comprehensive-data-exploration-with-python)"
   ]
  },
  {
   "cell_type": "code",
   "execution_count": 2,
   "metadata": {
    "_cell_guid": "b1076dfc-b9ad-4769-8c92-a6c4dae69d19",
    "_uuid": "8f2839f25d086af736a60e9eeb907d3b93b6e0e5"
   },
   "outputs": [
    {
     "name": "stdout",
     "output_type": "stream",
     "text": [
      "['data_description.txt', 'sample_submission.csv', 'test.csv', 'train.csv']\n"
     ]
    }
   ],
   "source": [
    "import numpy as np \n",
    "import pandas as pd\n",
    "import sklearn\n",
    "\n",
    "import os\n",
    "print(os.listdir(\"./data\"))\n"
   ]
  },
  {
   "cell_type": "code",
   "execution_count": 3,
   "metadata": {
    "_uuid": "d284d189043cf3be008cd62dfa1f9e7f22f47e01"
   },
   "outputs": [],
   "source": [
    "import seaborn as sns\n",
    "import matplotlib as plt\n",
    "from plotnine import *\n",
    "import warnings\n",
    "warnings.filterwarnings('ignore')\n",
    "%matplotlib inline\n",
    "\n",
    "from scipy.stats import norm    # used in plotting"
   ]
  },
  {
   "cell_type": "code",
   "execution_count": null,
   "metadata": {
    "_cell_guid": "79c7e3d0-c299-4dcb-8224-4455121ee9b0",
    "_uuid": "d629ff2d2480ee46fbb7e2d37f6b5fab8052498a"
   },
   "outputs": [],
   "source": [
    "from sklearn.ensemble import RandomForestRegressor\n",
    "from sklearn.tree import DecisionTreeRegressor\n",
    "from xgboost import XGBRegressor\n",
    "import lightgbm as lgb"
   ]
  },
  {
   "cell_type": "code",
   "execution_count": 4,
   "metadata": {
    "_uuid": "401a64265bd0a358c89332ab6ae16f602002cd36"
   },
   "outputs": [
    {
     "data": {
      "text/html": [
       "<div>\n",
       "<style scoped>\n",
       "    .dataframe tbody tr th:only-of-type {\n",
       "        vertical-align: middle;\n",
       "    }\n",
       "\n",
       "    .dataframe tbody tr th {\n",
       "        vertical-align: top;\n",
       "    }\n",
       "\n",
       "    .dataframe thead th {\n",
       "        text-align: right;\n",
       "    }\n",
       "</style>\n",
       "<table border=\"1\" class=\"dataframe\">\n",
       "  <thead>\n",
       "    <tr style=\"text-align: right;\">\n",
       "      <th></th>\n",
       "      <th>Id</th>\n",
       "      <th>MSSubClass</th>\n",
       "      <th>MSZoning</th>\n",
       "      <th>LotFrontage</th>\n",
       "      <th>LotArea</th>\n",
       "      <th>Street</th>\n",
       "      <th>Alley</th>\n",
       "      <th>LotShape</th>\n",
       "      <th>LandContour</th>\n",
       "      <th>Utilities</th>\n",
       "      <th>...</th>\n",
       "      <th>PoolArea</th>\n",
       "      <th>PoolQC</th>\n",
       "      <th>Fence</th>\n",
       "      <th>MiscFeature</th>\n",
       "      <th>MiscVal</th>\n",
       "      <th>MoSold</th>\n",
       "      <th>YrSold</th>\n",
       "      <th>SaleType</th>\n",
       "      <th>SaleCondition</th>\n",
       "      <th>SalePrice</th>\n",
       "    </tr>\n",
       "  </thead>\n",
       "  <tbody>\n",
       "    <tr>\n",
       "      <th>0</th>\n",
       "      <td>1</td>\n",
       "      <td>60</td>\n",
       "      <td>RL</td>\n",
       "      <td>65.0</td>\n",
       "      <td>8450</td>\n",
       "      <td>Pave</td>\n",
       "      <td>NaN</td>\n",
       "      <td>Reg</td>\n",
       "      <td>Lvl</td>\n",
       "      <td>AllPub</td>\n",
       "      <td>...</td>\n",
       "      <td>0</td>\n",
       "      <td>NaN</td>\n",
       "      <td>NaN</td>\n",
       "      <td>NaN</td>\n",
       "      <td>0</td>\n",
       "      <td>2</td>\n",
       "      <td>2008</td>\n",
       "      <td>WD</td>\n",
       "      <td>Normal</td>\n",
       "      <td>208500</td>\n",
       "    </tr>\n",
       "    <tr>\n",
       "      <th>1</th>\n",
       "      <td>2</td>\n",
       "      <td>20</td>\n",
       "      <td>RL</td>\n",
       "      <td>80.0</td>\n",
       "      <td>9600</td>\n",
       "      <td>Pave</td>\n",
       "      <td>NaN</td>\n",
       "      <td>Reg</td>\n",
       "      <td>Lvl</td>\n",
       "      <td>AllPub</td>\n",
       "      <td>...</td>\n",
       "      <td>0</td>\n",
       "      <td>NaN</td>\n",
       "      <td>NaN</td>\n",
       "      <td>NaN</td>\n",
       "      <td>0</td>\n",
       "      <td>5</td>\n",
       "      <td>2007</td>\n",
       "      <td>WD</td>\n",
       "      <td>Normal</td>\n",
       "      <td>181500</td>\n",
       "    </tr>\n",
       "    <tr>\n",
       "      <th>2</th>\n",
       "      <td>3</td>\n",
       "      <td>60</td>\n",
       "      <td>RL</td>\n",
       "      <td>68.0</td>\n",
       "      <td>11250</td>\n",
       "      <td>Pave</td>\n",
       "      <td>NaN</td>\n",
       "      <td>IR1</td>\n",
       "      <td>Lvl</td>\n",
       "      <td>AllPub</td>\n",
       "      <td>...</td>\n",
       "      <td>0</td>\n",
       "      <td>NaN</td>\n",
       "      <td>NaN</td>\n",
       "      <td>NaN</td>\n",
       "      <td>0</td>\n",
       "      <td>9</td>\n",
       "      <td>2008</td>\n",
       "      <td>WD</td>\n",
       "      <td>Normal</td>\n",
       "      <td>223500</td>\n",
       "    </tr>\n",
       "    <tr>\n",
       "      <th>3</th>\n",
       "      <td>4</td>\n",
       "      <td>70</td>\n",
       "      <td>RL</td>\n",
       "      <td>60.0</td>\n",
       "      <td>9550</td>\n",
       "      <td>Pave</td>\n",
       "      <td>NaN</td>\n",
       "      <td>IR1</td>\n",
       "      <td>Lvl</td>\n",
       "      <td>AllPub</td>\n",
       "      <td>...</td>\n",
       "      <td>0</td>\n",
       "      <td>NaN</td>\n",
       "      <td>NaN</td>\n",
       "      <td>NaN</td>\n",
       "      <td>0</td>\n",
       "      <td>2</td>\n",
       "      <td>2006</td>\n",
       "      <td>WD</td>\n",
       "      <td>Abnorml</td>\n",
       "      <td>140000</td>\n",
       "    </tr>\n",
       "    <tr>\n",
       "      <th>4</th>\n",
       "      <td>5</td>\n",
       "      <td>60</td>\n",
       "      <td>RL</td>\n",
       "      <td>84.0</td>\n",
       "      <td>14260</td>\n",
       "      <td>Pave</td>\n",
       "      <td>NaN</td>\n",
       "      <td>IR1</td>\n",
       "      <td>Lvl</td>\n",
       "      <td>AllPub</td>\n",
       "      <td>...</td>\n",
       "      <td>0</td>\n",
       "      <td>NaN</td>\n",
       "      <td>NaN</td>\n",
       "      <td>NaN</td>\n",
       "      <td>0</td>\n",
       "      <td>12</td>\n",
       "      <td>2008</td>\n",
       "      <td>WD</td>\n",
       "      <td>Normal</td>\n",
       "      <td>250000</td>\n",
       "    </tr>\n",
       "  </tbody>\n",
       "</table>\n",
       "<p>5 rows × 81 columns</p>\n",
       "</div>"
      ],
      "text/plain": [
       "   Id  MSSubClass MSZoning  LotFrontage  LotArea Street Alley LotShape  \\\n",
       "0   1          60       RL         65.0     8450   Pave   NaN      Reg   \n",
       "1   2          20       RL         80.0     9600   Pave   NaN      Reg   \n",
       "2   3          60       RL         68.0    11250   Pave   NaN      IR1   \n",
       "3   4          70       RL         60.0     9550   Pave   NaN      IR1   \n",
       "4   5          60       RL         84.0    14260   Pave   NaN      IR1   \n",
       "\n",
       "  LandContour Utilities  ... PoolArea PoolQC Fence MiscFeature MiscVal MoSold  \\\n",
       "0         Lvl    AllPub  ...        0    NaN   NaN         NaN       0      2   \n",
       "1         Lvl    AllPub  ...        0    NaN   NaN         NaN       0      5   \n",
       "2         Lvl    AllPub  ...        0    NaN   NaN         NaN       0      9   \n",
       "3         Lvl    AllPub  ...        0    NaN   NaN         NaN       0      2   \n",
       "4         Lvl    AllPub  ...        0    NaN   NaN         NaN       0     12   \n",
       "\n",
       "  YrSold  SaleType  SaleCondition  SalePrice  \n",
       "0   2008        WD         Normal     208500  \n",
       "1   2007        WD         Normal     181500  \n",
       "2   2008        WD         Normal     223500  \n",
       "3   2006        WD        Abnorml     140000  \n",
       "4   2008        WD         Normal     250000  \n",
       "\n",
       "[5 rows x 81 columns]"
      ]
     },
     "execution_count": 4,
     "metadata": {},
     "output_type": "execute_result"
    }
   ],
   "source": [
    "## In Kaggle\n",
    "#trainData = pd.read_csv(\"../input/train.csv\")\n",
    "#testData = pd.read_csv(\"../input/test.csv\")\n",
    "\n",
    "## Local\n",
    "trainData = pd.read_csv(\"./data/train.csv\")\n",
    "testData = pd.read_csv(\"./data/test.csv\")\n",
    "\n",
    "testID = testData.Id\n",
    "trainData.head()"
   ]
  },
  {
   "cell_type": "markdown",
   "metadata": {
    "_uuid": "36f8d6e25df75e65906c016e3f04d49d14cb123f"
   },
   "source": [
    "# Data Imputation"
   ]
  },
  {
   "cell_type": "markdown",
   "metadata": {
    "_uuid": "5554aadcd0b39b2c099ee987ad4447537a55169a"
   },
   "source": [
    "The documentation refers to 5 outliers in this dataset, of which 3 are true outliers. A plot of sale price against ground living area is encouraged. Below, 4 clear outliers, all above 4000 sq ft ground living area are clear. Two of which seem due to large houses while another two are anomalous. We eliminate the anomalous values. The last point may be lost in the test data set or culled for being an outlier, though this cannot be determined without the `SalePrice` values redacted for the test set."
   ]
  },
  {
   "cell_type": "code",
   "execution_count": 5,
   "metadata": {
    "_uuid": "4a0a5121a1d8e520f06405da075f0888fbd7d1ff"
   },
   "outputs": [
    {
     "data": {
      "text/plain": [
       "<matplotlib.axes._subplots.AxesSubplot at 0x7fde727ca128>"
      ]
     },
     "execution_count": 5,
     "metadata": {},
     "output_type": "execute_result"
    },
    {
     "data": {
      "image/png": "[encoded data removed]",
      "text/plain": [
       "<Figure size 432x288 with 1 Axes>"
      ]
     },
     "metadata": {
      "needs_background": "light"
     },
     "output_type": "display_data"
    }
   ],
   "source": [
    "sns.scatterplot(data=trainData,x=\"GrLivArea\",y=\"SalePrice\")"
   ]
  },
  {
   "cell_type": "code",
   "execution_count": 6,
   "metadata": {
    "_uuid": "c1857f1ec71ebe04eac1be3d34944fe58e5bf7b0"
   },
   "outputs": [],
   "source": [
    "outliers = ((trainData.GrLivArea > 4000) & (trainData.SalePrice < 5E5))"
   ]
  },
  {
   "cell_type": "code",
   "execution_count": 7,
   "metadata": {
    "_uuid": "1b797b2f69153e45fa25d266b0b2530e25cbaed5"
   },
   "outputs": [
    {
     "data": {
      "text/plain": [
       "<matplotlib.axes._subplots.AxesSubplot at 0x7fde724a3e80>"
      ]
     },
     "execution_count": 7,
     "metadata": {},
     "output_type": "execute_result"
    },
    {
     "data": {
      "image/png": "[encoded data removed]",
      "text/plain": [
       "<Figure size 432x288 with 1 Axes>"
      ]
     },
     "metadata": {
      "needs_background": "light"
     },
     "output_type": "display_data"
    }
   ],
   "source": [
    "trainData = trainData[~(outliers)]\n",
    "sns.scatterplot(data=trainData,x=\"GrLivArea\",y=\"SalePrice\")"
   ]
  },
  {
   "cell_type": "markdown",
   "metadata": {
    "_uuid": "21ed0369c2e8d8454672f2f1f92d5e5a47105931"
   },
   "source": [
    "Before continuing we should look at which variables are highly correlated with our SalePrice target. A correlation matrix in the form of a heatmap provides this by reading off color values from the last row of the chart while additionally providing information about correlations between variables."
   ]
  },
  {
   "cell_type": "code",
   "execution_count": 15,
   "metadata": {
    "_uuid": "4c3913beff9c0edb89ffd9a82b92865e0f8b3053"
   },
   "outputs": [
    {
     "data": {
      "text/plain": [
       "<matplotlib.axes._subplots.AxesSubplot at 0x7fde7067d128>"
      ]
     },
     "execution_count": 15,
     "metadata": {},
     "output_type": "execute_result"
    },
    {
     "data": {
      "image/png": "[encoded data removed]",
      "text/plain": [
       "<Figure size 864x648 with 2 Axes>"
      ]
     },
     "metadata": {
      "needs_background": "light"
     },
     "output_type": "display_data"
    }
   ],
   "source": [
    "f, ax = plt.pyplot.subplots(figsize=(12, 9))\n",
    "sns.heatmap(trainData.corr(),square=True,cmap=\"PiYG\",center=0)"
   ]
  },
  {
   "cell_type": "markdown",
   "metadata": {},
   "source": [
    "Looking at correlations between price and variables is useful for determining valuable variables to be emphasized in linear regression. Covariables need to be picked out for reducing multicollinearity."
   ]
  },
  {
   "cell_type": "markdown",
   "metadata": {},
   "source": [
    "### Strong Predictors:\n",
    " * `OverallQual`\n",
    " * `TotalBsmtSF`\n",
    " * `1stFlrSF`\n",
    " * `GrLivArea`\n",
    " * `GarageCars`\n",
    " * `GarageArea`\n",
    " * `KitchenAbvGr`\n",
    " * `MSSubClass`\n",
    " * `OverallCond`\n",
    " \n",
    "### Moderate Predictors:\n",
    " * `Lot Frontage`\n",
    " * `Lot Area`\n",
    " * `YearBuilt`\n",
    " * `YearRemodAdd`\n",
    " * `MasVnrArea`\n",
    " * `BsmtFinSF1`\n",
    " * `2ndFlrSF`\n",
    " * `FullBath`\n",
    " * `Fireplaces`\n",
    " * `GarageYrBlt`\n",
    " * `EnclosedPorch`\n",
    " \n",
    "\n",
    "### Weak Predictors:\n",
    " * `BsmtUnfSF`\n",
    " * `BsmtFullBath`\n",
    " * `BedroomAbvGr`\n",
    " * `WoodDeckSF`\n",
    " * `OpenPorchSF`"
   ]
  },
  {
   "cell_type": "markdown",
   "metadata": {},
   "source": [
    "### Correlated Variables\n",
    " * `MSSubClass` - `LotFrontage`\n",
    " * `OverallQual` - `OverallCond`\n",
    " * `YearBuilt` - `YearRemodAdd`\n",
    " * Garage variables\n",
    " * Garage variables - `OverallQual`\n",
    " * Garage variables - `YearBuilt`\n",
    " * `BsmtFinSF` - `BsmtUnfSF`\n",
    " * `YearBuilt` - `EnclosedPorch`\n",
    " * `YearBuilt` - `GarageYrBuilt`\n",
    " * SF variables\n",
    " * `TotRmsAbvGrd` ~ `GrLivArea`\n",
    " * `FullBath` ~ `GrLivArea`"
   ]
  },
  {
   "cell_type": "markdown",
   "metadata": {
    "_uuid": "77acf5150d1bf4e9e0b1c865da79d006d9aee3a1"
   },
   "source": [
    "From this we see the most important variables seem to be `OverallQual`, `TotalBsmtSF`, `1stFlrSF`, `GrLivArea`, `GarageCars`, and `GarageArea`. We should pay extra attention to these later before training the model.\n",
    "Of these, we see that the pairs (`TotalBsmtSF`, `1stFlrSF`) and (`GarageCars`,`GarageArea`) are highly correlated. This is expected, as the basement and first floor are matched to the size of the foundation, and the number of cars that can fit in a garage is going to be dependent on how big the garage is."
   ]
  },
  {
   "cell_type": "code",
   "execution_count": 9,
   "metadata": {
    "_uuid": "30d0188ac13f5461f571122a3ca836a295865e66"
   },
   "outputs": [],
   "source": [
    "impCols = [\"OverallQual\",\"TotalBsmtSF\", \"1stFlrSF\", \"GrLivArea\", \"GarageCars\", \"GarageArea\"]"
   ]
  },
  {
   "cell_type": "markdown",
   "metadata": {
    "_uuid": "e8b335e7893007cd6e1c5866725a62db059e2264"
   },
   "source": [
    "Before checking for missing data, see what the documentation has to say about each column and convert null values to their actual indicator. This will be packed into a function in order to pipeline when making predictions on test data. Here we list the columns transformed:\n",
    "* Alley: no alley\n",
    "*  Bsmt\\*: no basement\n",
    "* FireplaceQu: no fireplace\n",
    "* Garage\\*: no garage\n",
    "    + expect missing values for GarageYrBlt\n",
    "* PoolQC: no pool\n",
    "* Fence: no fence\n",
    "* MiscFeature: no such item as an elevator, tennis court, second garage, etc..."
   ]
  },
  {
   "cell_type": "code",
   "execution_count": null,
   "metadata": {
    "_uuid": "36f9b052a778d5ba4c48e62742f671ff7a0698d3"
   },
   "outputs": [],
   "source": [
    "def nullfill(in_df):\n",
    "    df = in_df.copy()\n",
    "    df.Alley = df.Alley.fillna(\"None\")\n",
    "    df.BsmtQual = df.BsmtQual.fillna(\"None\")\n",
    "    df.BsmtCond = df.BsmtCond.fillna(\"None\")\n",
    "    df.BsmtExposure = df.BsmtExposure.fillna(\"None\")\n",
    "    df.BsmtFinType1 = df.BsmtFinType1.fillna(\"None\")\n",
    "    df.BsmtFinType2 = df.BsmtFinType2.fillna(\"None\")\n",
    "    df.FireplaceQu = df.FireplaceQu.fillna(\"None\")\n",
    "    df.GarageType = df.GarageType.fillna(\"None\")\n",
    "    df.GarageFinish = df.GarageFinish.fillna(\"None\")\n",
    "    df.GarageQual = df.GarageQual.fillna(\"None\")\n",
    "    df.GarageCond = df.GarageCond.fillna(\"None\")\n",
    "    df.PoolQC = df.PoolQC.fillna(\"None\")\n",
    "    df.Fence = df.Fence.fillna(\"None\")\n",
    "    df.MiscFeature = df.MiscFeature.fillna(\"None\")\n",
    "    return(df)"
   ]
  },
  {
   "cell_type": "code",
   "execution_count": null,
   "metadata": {
    "_uuid": "73d562c4af479e4ce242e41974fd83346a4ff032"
   },
   "outputs": [],
   "source": [
    "cleanData = nullfill(trainData)\n",
    "cleanNa = cleanData.isnull().sum().sort_values(ascending=False)\n",
    "\n",
    "cleanNa.head(5)"
   ]
  },
  {
   "cell_type": "markdown",
   "metadata": {
    "_uuid": "463de34979a313ca49eb038642e980d7baf46838"
   },
   "source": [
    "As expected, the `GarageYrBlt`has null values (as many as were filled from the other garage-related variables).    \n",
    "`MasVnr` is short for Masonry Veneer, which should already have a value \"None\". Still the equality between the missing type and area seems to indicate that this should be fixed anyways."
   ]
  },
  {
   "cell_type": "markdown",
   "metadata": {
    "_uuid": "df27d20c9a75aa2382d3ddcbc53eb3160a1d0148"
   },
   "source": [
    "Imputring data for the `Electrical` feature is less intuitive. We could expect the type of electrical system to vary with build date, though updates are possible. Let's see if that's true."
   ]
  },
  {
   "cell_type": "code",
   "execution_count": null,
   "metadata": {
    "_uuid": "652615efcff560635b6dd9ce4ab20843c1e89e85"
   },
   "outputs": [],
   "source": [
    "( ggplot(trainData, aes(\"YearBuilt\"))\n",
    "   + geom_histogram(bins = 50) \n",
    "   + facet_wrap(\"Electrical\")\n",
    ")"
   ]
  },
  {
   "cell_type": "markdown",
   "metadata": {
    "_uuid": "cb574236582d75a6a42c04003a4396ad625662fd"
   },
   "source": [
    "From the above plot it seems safe to impute null values in `Electrical` as \"SBrkr\" seeing as that type is dominant over the time period where null values exist (towards the end of year built data) as well as over the entire range of observed values for year built.\n",
    "\n",
    "(Maybe fix this graph to be proportion rather than raw count)"
   ]
  },
  {
   "cell_type": "code",
   "execution_count": null,
   "metadata": {
    "_uuid": "bf2ad7406195d054db69b68c64a085a0414ff865"
   },
   "outputs": [],
   "source": [
    "def nullfill2(in_df):\n",
    "    df = nullfill(in_df)\n",
    "    df.MasVnrType = df.MasVnrType.fillna(\"None\")\n",
    "    df.MasVnrArea = df.MasVnrArea.fillna(0)\n",
    "    df.Electrical = df.Electrical.fillna(\"SBrkr\")\n",
    "    return(df)"
   ]
  },
  {
   "cell_type": "code",
   "execution_count": null,
   "metadata": {
    "_uuid": "cf4513a21891b8e17dc177547d2c1b7c4b2ea065"
   },
   "outputs": [],
   "source": [
    "cleanData = nullfill2(trainData)\n",
    "cleanNa = cleanData.isnull().sum().sort_values(ascending=False)\n",
    "\n",
    "cleanNa.head(5)"
   ]
  },
  {
   "cell_type": "markdown",
   "metadata": {
    "_uuid": "17d1456a1188bc1ed6ae720e0db37827363ff92c"
   },
   "source": [
    "A quick check of the test data shows that this cleaning is insufficient, and all cases should be covered. This requires going back and stepping through each class to provide a standard for null inputs."
   ]
  },
  {
   "cell_type": "code",
   "execution_count": null,
   "metadata": {
    "_uuid": "c958f7093890b9e4321eb239eaf4d8c9dbce37aa"
   },
   "outputs": [],
   "source": [
    "cleanTest = nullfill2(testData)\n",
    "testCleanNA = cleanTest.isnull().sum().sort_values(ascending=False)\n",
    "\n",
    "testCleanNA.head(5)"
   ]
  },
  {
   "cell_type": "markdown",
   "metadata": {
    "_uuid": "b338e9efa4377e6e7006a73ca1c36ebcdea60133"
   },
   "source": [
    "Performing the same analysis we did on the `Electrical` feature, we see that houses in this dataset predominantly have central air. This leads us to impute the `CentralAir` value as \"y\"."
   ]
  },
  {
   "cell_type": "code",
   "execution_count": null,
   "metadata": {
    "_uuid": "722ee25375f5f65220405ee3032bd7e1069d45bb"
   },
   "outputs": [],
   "source": [
    "( ggplot(trainData, aes(\"YearBuilt\"))\n",
    "   + geom_histogram(bins = 50) \n",
    "   + facet_wrap(\"CentralAir\")\n",
    ")"
   ]
  },
  {
   "cell_type": "markdown",
   "metadata": {
    "_uuid": "27a8e5ae202a550d0b8508c2966be89cf21332d7"
   },
   "source": [
    "We are still left with uncertainty as to what to do with the `GarageYrBlt` and `LotFrontage` features. \n",
    "\n",
    "Concerning the `GarageYrBlt` variable: The plot below shows that the garage is largely built with the house and of those that were not, there is no immediate correlation. Imputing a value of 0 may be dangerous for a continuous variable in a linear regression type model. Additionally, our correlation matrix above shows that this variable may explain some variance in the data so it may not be wise to delete this variable. Consequently, it seems like a good choice to impute values of 0 if we commit to only use decision tree-type models. \n",
    "\n",
    "`LotFrontage` values could mean that the lot doesn't actually have any direct street access. In depth analysis could involve looking at these specific houses to determine what is going on, or seeing correlation with alley access. From there we can impute a value of zero or the modal value for each neighborhood. During the model training phase these two methods will be compared."
   ]
  },
  {
   "cell_type": "code",
   "execution_count": null,
   "metadata": {
    "_uuid": "e3516d49b29cf88ba59bff4a02dde2ae40d2da34"
   },
   "outputs": [],
   "source": [
    "sns.scatterplot(data=trainData,x=\"YearBuilt\",y=\"GarageYrBlt\")"
   ]
  },
  {
   "cell_type": "code",
   "execution_count": null,
   "metadata": {
    "_uuid": "c95c380daa0d6510ea54975238c4e4894d4c5ead"
   },
   "outputs": [],
   "source": [
    "(ggplot(trainData,aes(\"LotFrontage\"))\n",
    "  + geom_histogram(bins=30)\n",
    "  + facet_wrap(\"Neighborhood\")\n",
    ")"
   ]
  },
  {
   "cell_type": "code",
   "execution_count": null,
   "metadata": {
    "_uuid": "8f34f2746061c2ca4b34d00ce809f3688e5fe4ba"
   },
   "outputs": [],
   "source": [
    "frontageNull = trainData.LotFrontage.isnull().groupby(trainData[\"Neighborhood\"]).sum()\n",
    "frontageNull.sort_values(ascending=False).plot.bar()"
   ]
  },
  {
   "cell_type": "code",
   "execution_count": null,
   "metadata": {
    "_uuid": "2b0aee30507ea8394aaa878de3fad8485c06daa1"
   },
   "outputs": [],
   "source": [
    "totalByNeighborhood = trainData.groupby(\"Neighborhood\").count().Id\n",
    "\n",
    "totalByNeighborhood.sort_values(ascending=False).plot.bar()"
   ]
  },
  {
   "cell_type": "code",
   "execution_count": null,
   "metadata": {
    "_uuid": "0a1c9e11eb8ee357cd311de30a6b700ad6036ecd"
   },
   "outputs": [],
   "source": [
    "fig1 = sns.scatterplot(x=totalByNeighborhood,y=frontageNull)\n",
    "fig1.set(xlabel=\"Total Observations\",ylabel=\"Number missing\")\n",
    "fig1"
   ]
  },
  {
   "cell_type": "markdown",
   "metadata": {
    "_uuid": "1c6161d7a8245d42cb42513602279a8d312cb930"
   },
   "source": [
    "For the MSZoning and Utilities features we impute on the modal value for each neighborhood, creating a dictionary. We create an additional dictionary to compare our different `LotFrontage` imputations as well."
   ]
  },
  {
   "cell_type": "code",
   "execution_count": null,
   "metadata": {
    "_uuid": "f45a1026937c182ded9d7c5326c67ed500711008"
   },
   "outputs": [],
   "source": [
    "zoning = trainData.groupby(\"Neighborhood\").MSZoning.apply(lambda x: x.value_counts().sort_values().index[0]).to_dict()\n",
    "utilities = trainData.groupby(\"Neighborhood\").Utilities.apply(lambda x: x.value_counts().sort_values().index[0]).to_dict()\n",
    "frontage = trainData.groupby(\"Neighborhood\").LotFrontage.apply(lambda x: x.value_counts().sort_values().index[0]).to_dict()"
   ]
  },
  {
   "cell_type": "code",
   "execution_count": null,
   "metadata": {
    "_uuid": "131b276b73a078d371693c7a14cb5f2c9c29002e"
   },
   "outputs": [],
   "source": [
    "# values that null is filled with \"None\"\n",
    "fillNone = [\"Alley\",\"BsmtQual\",\"BsmtCond\",\"MasVnrType\",\"BsmtExposure\",\"BsmtFinType1\",\"BsmtFinType2\",\"FireplaceQu\",\"GarageType\",\"GarageFinish\",\"GarageQual\",\n",
    "           \"GarageCond\",\"PoolQC\",\"Fence\",\"MiscFeature\",\"MasVnrType\"]\n",
    "\n",
    "# For categorical data, it is \n",
    "fillZero = [\"BsmtFinSF1\",\"BsmtFinSF2\",\"BsmtUnfSF\",\"TotalBsmtSF\",\"BsmtFullBath\",\"BsmtHalfBath\",\"FullBath\",\"HalfBath\",\"BedroomAbvGr\",\"2ndFlrSF\",\"GrLivArea\",\n",
    "           \"MasVnrArea\",\"GarageArea\",\"GarageCars\", \"GarageYrBlt\"]\n",
    "\n",
    "def imputeVals0(in_df):\n",
    "    df = in_df.copy()\n",
    "    for i in fillNone:\n",
    "        df[i] = df[i].fillna(\"None\")\n",
    "    for i in fillZero:\n",
    "        df[\"null_%s\" % (i)] = df[i].isnull()                           # mark which zeros are imputed\n",
    "        df[i] = df[i].fillna(0)\n",
    "    df.Electrical = df.Electrical.fillna(\"SBrkr\")\n",
    "    df.Functional = df.Functional.fillna(\"Typ\")                        # Documentation instructs to assume \"typical\" unless otherwise noted\n",
    "    df.CentralAir = df.CentralAir.fillna(\"Y\")\n",
    "    df[\"null_LotFrontage\"] = df.LotFrontage.isnull()\n",
    "    df.LotFrontage = df.LotFrontage.fillna(0)                             \n",
    "    df.MSZoning = df.MSZoning.fillna(df.Neighborhood.map(zoning))\n",
    "    df.Utilities = df.Utilities.fillna(df.Neighborhood.map(utilities))\n",
    "    df.KitchenQual = df.KitchenQual.fillna(\"Po\")                      #one house missing kitchen data\n",
    "    df.SaleType = df.SaleType.fillna(\"Oth\")                           # only one missing value, fill the already defined \"other\"\n",
    "    df.Exterior1st = df.Exterior1st.fillna(\"Other\")\n",
    "    df.Exterior2nd = df.Exterior2nd.fillna(\"Other\")                  # the same house is responsible for the missing exterior 1st and 2nd, other is predefined\n",
    "    df = df.drop(columns=[\"Id\"])\n",
    "    return(df)\n",
    "\n",
    "def imputeVals1(in_df):\n",
    "    df = in_df.copy()\n",
    "    for i in fillNone:\n",
    "        df[i] = df[i].fillna(\"None\")\n",
    "    for i in fillZero:\n",
    "        df[\"null_%s\" % (i)] = df[i].isnull()\n",
    "        df[i] = df[i].fillna(0)\n",
    "    df.Electrical = df.Electrical.fillna(\"SBrkr\")\n",
    "    df.Functional = df.Functional.fillna(\"Typ\")                        \n",
    "    df.CentralAir = df.CentralAir.fillna(\"Y\")\n",
    "    df.LotFrontage = df.LotFrontage.fillna(df.Neighborhood.map(frontage))            # This is the only line different in these two functions, maybe a more elegant solution is possible               \n",
    "    df.MSZoning = df.MSZoning.fillna(df.Neighborhood.map(zoning))\n",
    "    df.Utilities = df.Utilities.fillna(df.Neighborhood.map(utilities))\n",
    "    df.KitchenQual = df.KitchenQual.fillna(\"Po\")                     \n",
    "    df.SaleType = df.SaleType.fillna(\"Oth\")                           \n",
    "    df.Exterior1st = df.Exterior1st.fillna(\"Other\")\n",
    "    df.Exterior2nd = df.Exterior2nd.fillna(\"Other\")                 \n",
    "    df = df.drop(columns=[\"Id\"])\n",
    "    return(df)"
   ]
  },
  {
   "cell_type": "code",
   "execution_count": null,
   "metadata": {
    "_uuid": "03582788124a2b907c735959e1507553123f43a5"
   },
   "outputs": [],
   "source": [
    "impData0 = imputeVals0(trainData)\n",
    "impData1 = imputeVals1(trainData)\n",
    "\n",
    "print(\"There are %d nulls left in the training data\" % impData1.isnull().sum().sum())             # Check if both axes can be summed in one function call\n",
    "print(\"There are %d nulls left in the testing data\" % imputeVals0(testData).isnull().sum().sum())"
   ]
  },
  {
   "cell_type": "markdown",
   "metadata": {
    "_uuid": "3d13b39746e6efb1e4bcee3d94b276891fefcec7"
   },
   "source": [
    "# Feature Engineering\n",
    "\n",
    "Here we go through the necessary steps of checking the assumptions of most models as well as transformations to optimize model performance. It is worth noting that on a decision tree-type model, renormalization will have little effect."
   ]
  },
  {
   "cell_type": "markdown",
   "metadata": {
    "_uuid": "7cbfe9a9b2640fcd67dcdd9415cbe9c3585618ef"
   },
   "source": [
    "The plot below shows that the `SalePrice` target variable deviates greatly from a normal distribution. We can attribute this partially to the lower bound of 0 and no upper bound to the value of a home, causing a positive skew.\n",
    "\n",
    "It is worth noting that the kurtosis produced by the default kurtosis function is the excess kurtosis where the normal distribution produces a value zero."
   ]
  },
  {
   "cell_type": "code",
   "execution_count": null,
   "metadata": {
    "_uuid": "969467380768d2ad421d72ea51003210199505ee"
   },
   "outputs": [],
   "source": [
    "sns.distplot(trainData[\"SalePrice\"], fit=norm)\n",
    "print(\"Skew: %.3f\" % (trainData.SalePrice.skew()))\n",
    "print(\"Kurtosis: %.3f\" % (trainData.SalePrice.kurtosis()))"
   ]
  },
  {
   "cell_type": "markdown",
   "metadata": {
    "_uuid": "e337ed057305be2a953f3f4142eab0491ff3c7d1"
   },
   "source": [
    "The scipy function `normaltest` uses these metrics to produce a statistic that is the sum of the squared skew and kurtosis as well as a p-value for a 2-sided $\\chi^2$ test of normality. Below, the p-value indicates an unfathomably small probability that this sample was drawn from a normal distribution. To improve this, a bit of engineering is in order. A $log$ transformation tempers positive skewness while normalization often improves model performance."
   ]
  },
  {
   "cell_type": "code",
   "execution_count": null,
   "metadata": {
    "_uuid": "d3a779600e3e29664063aaa877739665b1bc1cdd"
   },
   "outputs": [],
   "source": [
    "from scipy.stats import normaltest\n",
    "\n",
    "normaltest(trainData.SalePrice.values)"
   ]
  },
  {
   "cell_type": "code",
   "execution_count": null,
   "metadata": {
    "_uuid": "9596b26277b7f315f466edfbdbe8d55ab5020e57"
   },
   "outputs": [],
   "source": [
    "normedPrice = np.log(trainData.SalePrice)\n",
    "sp_mean = np.mean(normedPrice)\n",
    "sp_std = np.std(normedPrice)\n",
    "normedPrice = (normedPrice - sp_mean) / sp_std\n",
    "\n",
    "sns.distplot(normedPrice, fit=norm)"
   ]
  },
  {
   "cell_type": "code",
   "execution_count": null,
   "metadata": {
    "_uuid": "d9a92cb1bd70adb50bfc367d922ee612c92bb952"
   },
   "outputs": [],
   "source": [
    "normaltest(normedPrice)"
   ]
  },
  {
   "cell_type": "markdown",
   "metadata": {
    "_uuid": "ab411feb632eea2d44550018972cb24b9a1c8ff4"
   },
   "source": [
    "This visually looks much better and the $\\chi^2$ test shows greatly improved results but it still fails test of normality. More engineering may be necessary to improve performance in the future.\n",
    "\n",
    "Recall we earmarked some features as being important predictors of our target feature:"
   ]
  },
  {
   "cell_type": "code",
   "execution_count": null,
   "metadata": {
    "_uuid": "2f0f4805ace3e527b2bd4bf8d70cc1041d38fc34"
   },
   "outputs": [],
   "source": [
    "impCols"
   ]
  },
  {
   "cell_type": "markdown",
   "metadata": {
    "_uuid": "3922e8a83e41f2fca8b6bde6e69ae9cba1d825a6"
   },
   "source": [
    "Good model performance can depend on the distribution of these values so we renormalize these as well before training. The normaltest performed for the target variable shows that; of our variables of interest; `TotalBsmtSF`, `1stFlrSF`, and `GrLivArea` are all in need of renormalization. Before performing renormalization it's important to note that our imputation procedure for continuous values included imputing zero, particularly for `TotalBsmtSF` where we recognized that houses don't necessarily have basements.  Blindly repeating our previous treatment of `SalePrice` will yield an error because $log(0)$ is undefined. "
   ]
  },
  {
   "cell_type": "code",
   "execution_count": null,
   "metadata": {
    "_uuid": "a284ec29f0d53ebddb614c7334aea82f64926f6c"
   },
   "outputs": [],
   "source": [
    "normedCols = impData0[impCols]\n",
    "\n",
    "for col in impCols:\n",
    "    print(\"%s pval: %.3e\" % (col, normaltest(normedCols[col].values)[1]))"
   ]
  },
  {
   "cell_type": "code",
   "execution_count": null,
   "metadata": {
    "_uuid": "d4bb81c2688dd3b9ea3aad574c044e7e739df2f4"
   },
   "outputs": [],
   "source": [
    "temp = np.log(normedCols[\"1stFlrSF\"])\n",
    "temp_mean, temp_std = (np.mean(temp),np.std(temp))\n",
    "temp = (temp - temp_mean)/temp_std\n",
    "normedCols[\"1stFlrSF\"] = temp\n",
    "\n",
    "flr1_mean, flr1_std = (temp_mean, temp_std)          # save these values for the transform in the pipeline\n",
    "\n",
    "normaltest(temp)"
   ]
  },
  {
   "cell_type": "code",
   "execution_count": null,
   "metadata": {
    "_uuid": "ec5133f0a5e0ad88bd717a3f3b3efc44cede190d"
   },
   "outputs": [],
   "source": [
    "temp = np.log(normedCols[\"GrLivArea\"])\n",
    "temp_mean, temp_std = (np.mean(temp),np.std(temp))\n",
    "temp = (temp - temp_mean)/temp_std\n",
    "normedCols[\"GrLivArea\"] = temp\n",
    "\n",
    "gflr_mean, gflr_std = (temp_mean, temp_std)    \n",
    "\n",
    "normaltest(temp)"
   ]
  },
  {
   "cell_type": "code",
   "execution_count": null,
   "metadata": {
    "_uuid": "8c407faa45bd85356d91d833b4fa58d9c14494d3"
   },
   "outputs": [],
   "source": [
    "normedCols.loc[normedCols.TotalBsmtSF > 0, \"TotalBsmtSF\"] = np.log(normedCols.TotalBsmtSF)      # this must be done with loc"
   ]
  },
  {
   "cell_type": "code",
   "execution_count": null,
   "metadata": {
    "_uuid": "c0c9106a5fcc6b6346e48d20d0228dab96bf7d59"
   },
   "outputs": [],
   "source": [
    "sns.distplot(normedCols.loc[normedCols.TotalBsmtSF > 0, \"TotalBsmtSF\"], fit=norm)"
   ]
  },
  {
   "cell_type": "code",
   "execution_count": null,
   "metadata": {
    "_uuid": "6813caa1e3074edbec3f6dc5b4d5151958344103"
   },
   "outputs": [],
   "source": [
    "print(\"Skew: %.3f\" % normedCols.loc[normedCols.TotalBsmtSF > 0, \"TotalBsmtSF\"].skew())\n",
    "print(\"Kurtosis: %.3f\" % normedCols.loc[normedCols.TotalBsmtSF > 0, \"TotalBsmtSF\"].kurtosis())\n",
    "normaltest(normedCols.loc[normedCols.TotalBsmtSF > 0, \"TotalBsmtSF\"].values)"
   ]
  },
  {
   "cell_type": "markdown",
   "metadata": {
    "_uuid": "388b539117c9627175773fc74de7144f9d5050d7"
   },
   "source": [
    "Despite the poor p-value the distribution of nonzero values is visually improved. We forgo renormalization to avoid overlapping these values with imputed zeros.\n",
    "\n",
    "Now wrap this up in a function for pipelining."
   ]
  },
  {
   "cell_type": "code",
   "execution_count": null,
   "metadata": {
    "_uuid": "033e663ed9c8405151970eee91b88ba9ced76781"
   },
   "outputs": [],
   "source": [
    "def scalePrice(in_df):\n",
    "    df = in_df.copy()\n",
    "    df.SalePrice = np.log(trainData.SalePrice)\n",
    "    df.SalePrice = (df.SalePrice - sp_mean)/sp_std\n",
    "    return(df)\n",
    "\n",
    "# This function will be necessary to extract predicted values\n",
    "def invPrice(df):\n",
    "    return( np.exp((df*sp_std)+sp_mean))\n",
    "\n",
    "def featureFix(in_df):\n",
    "    df = in_df.copy()\n",
    "    temp = np.log(df[\"1stFlrSF\"])\n",
    "    temp = (temp - flr1_mean)/flr1_std\n",
    "    df[\"1stFlrSF\"] = temp\n",
    "    temp = np.log(df[\"GrLivArea\"])\n",
    "    temp = (temp - gflr_mean)/gflr_std\n",
    "    df[\"GrLivArea\"] = temp\n",
    "    df.loc[df.TotalBsmtSF > 0, \"TotalBsmtSF\"] = np.log(df.TotalBsmtSF)\n",
    "    return(df)"
   ]
  },
  {
   "cell_type": "markdown",
   "metadata": {
    "_uuid": "faf1566327c74f2cbd89da82b15b26fe7bf202eb"
   },
   "source": [
    "For numerical data that is categorical, make sure that the type is String instead of Int"
   ]
  },
  {
   "cell_type": "code",
   "execution_count": null,
   "metadata": {
    "_uuid": "7189908178516301e70b3df661501ffa873476ad"
   },
   "outputs": [],
   "source": [
    "trainData.columns"
   ]
  },
  {
   "cell_type": "code",
   "execution_count": null,
   "metadata": {
    "_uuid": "c540cb3775cd8edc27664f5331c974f46f487253"
   },
   "outputs": [],
   "source": [
    "catCol = [\"MSSubClass\",\"OverallCond\",\"YrSold\",\"MoSold\",\"GarageYrBlt\",\"YearBuilt\",\"YearRemodAdd\"]\n",
    "\n",
    "def makeStr(in_df):\n",
    "    df = in_df.copy()\n",
    "    for col in catCol:\n",
    "        df[col] = df[col].astype(str)\n",
    "    return(pd.get_dummies(df))                          # convert to one-hot encoding"
   ]
  },
  {
   "cell_type": "code",
   "execution_count": null,
   "metadata": {
    "_uuid": "598f6b1c6cbbffd50dfeebf918ee9b508354648b"
   },
   "outputs": [],
   "source": [
    "def split_xy(in_df):\n",
    "    y = in_df.SalePrice\n",
    "    x = in_df.drop(columns=[\"SalePrice\"])\n",
    "    return(x,y)"
   ]
  }
 ],
 "metadata": {
  "kernelspec": {
   "display_name": "Python 3",
   "language": "python",
   "name": "python3"
  },
  "language_info": {
   "codemirror_mode": {
    "name": "ipython",
    "version": 3
   },
   "file_extension": ".py",
   "mimetype": "text/x-python",
   "name": "python",
   "nbconvert_exporter": "python",
   "pygments_lexer": "ipython3",
   "version": "3.7.3"
  }
 },
 "nbformat": 4,
 "nbformat_minor": 1
}
